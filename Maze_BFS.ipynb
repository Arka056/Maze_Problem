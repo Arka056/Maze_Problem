{
  "nbformat": 4,
  "nbformat_minor": 0,
  "metadata": {
    "colab": {
      "provenance": []
    },
    "kernelspec": {
      "name": "python3",
      "display_name": "Python 3"
    },
    "language_info": {
      "name": "python"
    }
  },
  "cells": [
    {
      "cell_type": "code",
      "execution_count": null,
      "metadata": {
        "colab": {
          "base_uri": "https://localhost:8080/"
        },
        "id": "W9o3wyiFHSJt",
        "outputId": "f541fb75-e78b-42d7-abff-93b2738a828c"
      },
      "outputs": [
        {
          "output_type": "stream",
          "name": "stdout",
          "text": [
            "Shortest Path Using BFS: (1, 1) (1, 2) (1, 3) (1, 4) (2, 4) (3, 4) \n"
          ]
        }
      ],
      "source": [
        "maze = [\n",
        "  [1,1,1,1,1],\n",
        "  [1,1,1,1,1],\n",
        "  [1,1,1,0,1],\n",
        "  [1,1,0,1,1],\n",
        "  [1,1,1,1,1]\n",
        "]\n",
        "\n",
        "start = (1,1)\n",
        "end = (3,4)\n",
        "\n",
        "def bfs(start, end, maze):\n",
        "  queue = []\n",
        "  r = len(maze)\n",
        "  c = len(maze[0])\n",
        "\n",
        "  visited = [[0 for i in range(c)] for j in range(r)]\n",
        "  visited[start[0]][start[1]] = True\n",
        "  queue.append((start[0], start[1], 0, f'({start[0]}, {start[1]}) '))\n",
        "  while len(queue)!=0:\n",
        "    p = queue.pop(0)\n",
        "\n",
        "    if maze[p[0]][p[1]] == 0:\n",
        "      continue\n",
        "    if p[0]==end[0] and p[1]==end[1]:\n",
        "      return p[3]\n",
        "    if p[0] + 1 < r and visited[p[0] + 1][p[1]]==False:\n",
        "      queue.append((p[0]+1,p[1], p[2] + 1, p[3] + f'({p[0]+1}, {p[1]}) '))\n",
        "      visited[p[0] + 1][ p[1]]=True\n",
        "    if p[0] - 1 >= 0 and visited[p[0] - 1][p[1]]==False:\n",
        "      queue.append((p[0]-1,p[1], p[2] + 1, p[3] + f'({p[0]-1}, {p[1]}) ' ))\n",
        "      visited[p[0] - 1 ][ p[1]]=True\n",
        "    if p[1] + 1 < c and visited[p[0]][p[1]+1]==False:\n",
        "      queue.append((p[0],p[1]+1, p[2] + 1, p[3] + f'({p[0]}, {p[1]+1}) ' ))\n",
        "      visited[p[0] ][ p[1]+1]=True\n",
        "    if p[1] - 1 >= 0 and visited[p[0]][p[1]-1]==False:\n",
        "      queue.append((p[0],p[1]-1, p[2] + 1, p[3] + f'({p[0]}, {p[1]-1}) ' ))\n",
        "      visited[p[0]][ p[1]-1]=True\n",
        "  return -1\n",
        "print(f'Shortest Path Using BFS: {bfs(start,end,maze)}')"
      ]
    }
  ]
}