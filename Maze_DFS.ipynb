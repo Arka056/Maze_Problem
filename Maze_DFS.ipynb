{
  "nbformat": 4,
  "nbformat_minor": 0,
  "metadata": {
    "colab": {
      "provenance": []
    },
    "kernelspec": {
      "name": "python3",
      "display_name": "Python 3"
    },
    "language_info": {
      "name": "python"
    }
  },
  "cells": [
    {
      "cell_type": "code",
      "execution_count": null,
      "metadata": {
        "colab": {
          "base_uri": "https://localhost:8080/"
        },
        "id": "8tTicaagH3hC",
        "outputId": "bc817e6a-35d8-44fc-88a0-f753b3c6c0af"
      },
      "outputs": [
        {
          "output_type": "stream",
          "name": "stdout",
          "text": [
            "Shortest Path Using DFS: (1, 1) (1, 0) (2, 0) (3, 0) (3, 1) (4, 1) (4, 2) (4, 3) (4, 4) (3, 4) \n"
          ]
        }
      ],
      "source": [
        "maze = [\n",
        "  [1, 1, 1, 1, 1],\n",
        "  [1, 1, 1, 1, 1],\n",
        "  [1, 1, 1, 0, 1],\n",
        "  [1, 1, 0, 1, 1],\n",
        "  [1, 1, 1, 1, 1]\n",
        "]\n",
        "\n",
        "start = (1, 1)\n",
        "end = (3, 4)\n",
        "\n",
        "def dfs(start, end, maze):\n",
        "    stack = []\n",
        "    r = len(maze)\n",
        "    c = len(maze[0])\n",
        "\n",
        "    visited = [[False for _ in range(c)] for _ in range(r)]\n",
        "    visited[start[0]][start[1]] = True\n",
        "    stack.append((start[0], start[1], 0, f'({start[0]}, {start[1]}) '))  # (x, y, steps, path)\n",
        "\n",
        "    while stack:\n",
        "        p = stack.pop()\n",
        "\n",
        "        if maze[p[0]][p[1]] == 0:  # Skip invalid paths\n",
        "            continue\n",
        "\n",
        "        if p[0] == end[0] and p[1] == end[1]:  # Reached the destination\n",
        "            return p[3]\n",
        "\n",
        "        # Explore neighbors\n",
        "        if p[0] + 1 < r and not visited[p[0] + 1][p[1]]:  # Down\n",
        "            stack.append((p[0] + 1, p[1], p[2] + 1, p[3] + f'({p[0] + 1}, {p[1]}) '))\n",
        "            visited[p[0] + 1][p[1]] = True\n",
        "\n",
        "        if p[0] - 1 >= 0 and not visited[p[0] - 1][p[1]]:  # Up\n",
        "            stack.append((p[0] - 1, p[1], p[2] + 1, p[3] + f'({p[0] - 1}, {p[1]}) '))\n",
        "            visited[p[0] - 1][p[1]] = True\n",
        "\n",
        "        if p[1] + 1 < c and not visited[p[0]][p[1] + 1]:  # Right\n",
        "            stack.append((p[0], p[1] + 1, p[2] + 1, p[3] + f'({p[0]}, {p[1] + 1}) '))\n",
        "            visited[p[0]][p[1] + 1] = True\n",
        "\n",
        "        if p[1] - 1 >= 0 and not visited[p[0]][p[1] - 1]:  # Left\n",
        "            stack.append((p[0], p[1] - 1, p[2] + 1, p[3] + f'({p[0]}, {p[1] - 1}) '))\n",
        "            visited[p[0]][p[1] - 1] = True\n",
        "\n",
        "    return -1  # If no path is found\n",
        "\n",
        "print(f'Shortest Path Using DFS: {dfs(start,end,maze)}')"
      ]
    }
  ]
}